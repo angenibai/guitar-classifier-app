{
 "cells": [
  {
   "cell_type": "code",
   "execution_count": 7,
   "id": "7b6ae898-c178-4aa8-a446-f4ead2eca189",
   "metadata": {},
   "outputs": [],
   "source": [
    "from fastai.data.all import *\n",
    "from fastai.vision.all import *\n",
    "from fastai.vision.widgets import *"
   ]
  },
  {
   "cell_type": "code",
   "execution_count": 8,
   "id": "175319a5-83e7-4aa7-8b84-973ef8e18274",
   "metadata": {
    "id": "VXKHJOXIOCnI"
   },
   "outputs": [],
   "source": [
    "learn_inf = load_learner('model.pkl')"
   ]
  },
  {
   "cell_type": "markdown",
   "id": "c3f9b8b3-cd5d-40e1-a5dd-e075020e3efc",
   "metadata": {
    "id": "x0ARiiAbOfHZ"
   },
   "source": [
    "## Guitar classifier\n",
    "This classifier differentiates between Fender Stratocasters, Telecasters, Jazzmasters, Mustangs and Jaguars."
   ]
  },
  {
   "cell_type": "code",
   "execution_count": 9,
   "id": "f8ad5b8a-72c3-4d0c-b8bc-9cc47c551476",
   "metadata": {
    "id": "yv1k5u91Og6B"
   },
   "outputs": [],
   "source": [
    "btn_upload = widgets.FileUpload()\n",
    "out_pl = widgets.Output()\n",
    "lbl_pred = widgets.Label()\n",
    "btn_run = widgets.Button(description='Classify', button_style='primary')\n",
    "btn_clear = widgets.Button(description='Clear')\n",
    "lbl_heading = widgets.Label('Upload your guitar!')"
   ]
  },
  {
   "cell_type": "code",
   "execution_count": 10,
   "id": "eda1cba3-e292-4178-8f9e-8a2f50e9a897",
   "metadata": {
    "id": "5dJCLeIfQbkk"
   },
   "outputs": [],
   "source": [
    "def on_click_classify(change):\n",
    "  img = PILImage.create(btn_upload.data[-1])\n",
    "  out_pl.clear_output()\n",
    "  with out_pl: display(img.to_thumb(128,128))\n",
    "  pred, pred_idx, probs = learn_inf.predict(img)\n",
    "  lbl_pred.value = f'Prediction: {pred}; Probability: {probs[pred_idx]:.04f}'\n",
    "\n",
    "btn_run.on_click(on_click_classify)  "
   ]
  },
  {
   "cell_type": "code",
   "execution_count": 11,
   "id": "583368e9-430d-4371-ba9a-f28b8f2c9d44",
   "metadata": {
    "id": "d_ZRHsy7QiFE"
   },
   "outputs": [],
   "source": [
    "def on_click_clear(change):\n",
    "  out_pl.clear_output()\n",
    "  lbl_pred.value = ''\n",
    "\n",
    "btn_clear.on_click(on_click_clear)"
   ]
  },
  {
   "cell_type": "code",
   "execution_count": 12,
   "id": "a1438a34-ba3f-4c03-92a6-75bd82b49679",
   "metadata": {
    "colab": {
     "base_uri": "https://localhost:8080/",
     "height": 305,
     "referenced_widgets": [
      "845aefa580fe47748a277f46fcbcdc12",
      "16ffb011150c46238c07d6faad104166",
      "fd742f307f144535ab5b5d83b9099794",
      "3e5894d68fec4c839822160f76c1fbef",
      "21e772e1b16843079870e8136938ea04",
      "4bf981f077fa45f8a91c16cf9db4b736",
      "8d6450a2616c4473a7589281057ef2b4",
      "672223cc1e114deda093b841afd89764",
      "13fa7cde857c47a889e1035ed800d7c9",
      "a44ff20bb83f4b9eb8e39fa53b0e1e5d",
      "f8ae6060add14c15b7897ab460396f89",
      "175f394f6d4f4720aae32c42c2426b2d",
      "e032440051eb467088d65133ce5ae653",
      "62df924706e54336ac1c8eaac0fbd28b",
      "ab1da29af4094fca987bd24f4b81f0a8",
      "ad072c99bffe42fc8eb1bfe109142244",
      "dad6150f53174254b1073fe4231d1c4b",
      "e1d73d58227340729dffe08056dd5eb1",
      "28744c6c91d14268bd5558af938db4cc"
     ]
    },
    "id": "aU0uO8diQnbh",
    "outputId": "efcc1636-b796-4a87-b46e-7f51026dd275",
    "tags": []
   },
   "outputs": [
    {
     "data": {
      "application/vnd.jupyter.widget-view+json": {
       "model_id": "196469803c5f4f70b54e192d38078cde",
       "version_major": 2,
       "version_minor": 0
      },
      "text/plain": [
       "VBox(children=(Label(value='Upload your guitar!'), FileUpload(value={}, description='Upload'), Button(descript…"
      ]
     },
     "metadata": {},
     "output_type": "display_data"
    }
   ],
   "source": [
    "main_layout = Layout(display='flex', flex_flow='column', align_items='center')\n",
    "VBox(children=[lbl_heading, btn_upload, btn_clear, btn_run, out_pl, lbl_pred], layout=main_layout)"
   ]
  },
  {
   "cell_type": "code",
   "execution_count": null,
   "id": "33ccaf67-867c-47c2-b95e-23999705c05f",
   "metadata": {},
   "outputs": [],
   "source": []
  }
 ],
 "metadata": {
  "kernelspec": {
   "display_name": "Python 3 (ipykernel)",
   "language": "python",
   "name": "python3"
  },
  "language_info": {
   "codemirror_mode": {
    "name": "ipython",
    "version": 3
   },
   "file_extension": ".py",
   "mimetype": "text/x-python",
   "name": "python",
   "nbconvert_exporter": "python",
   "pygments_lexer": "ipython3",
   "version": "3.8.10"
  }
 },
 "nbformat": 4,
 "nbformat_minor": 5
}
